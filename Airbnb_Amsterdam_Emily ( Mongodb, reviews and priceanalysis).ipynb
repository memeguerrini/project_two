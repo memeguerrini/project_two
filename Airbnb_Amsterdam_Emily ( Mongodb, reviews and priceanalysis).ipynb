{
 "cells": [
  {
   "cell_type": "markdown",
   "metadata": {},
   "source": [
    "### Amsterdam’s Airbnb Market in 2018\n",
    "Data Exploration\n"
   ]
  },
  {
   "cell_type": "code",
   "execution_count": 1,
   "metadata": {},
   "outputs": [],
   "source": [
    "# Dependencies\n",
    "import numpy as np\n",
    "import pandas as pd\n",
    "import matplotlib.pyplot as plt\n",
    "from sqlalchemy import create_engine"
   ]
  },
  {
   "cell_type": "markdown",
   "metadata": {},
   "source": [
    "## Connect to the local database(Mongo DB)"
   ]
  },
  {
   "cell_type": "code",
   "execution_count": 2,
   "metadata": {},
   "outputs": [
    {
     "name": "stdout",
     "output_type": "stream",
     "text": [
      "<pymongo.cursor.Cursor object at 0x000002050A6B4580>\n"
     ]
    }
   ],
   "source": [
    "# Module used to connect Python with MongoDb\n",
    "import pymongo\n",
    "# https://docs.mongodb.com/manual/reference/default-mongodb-port/\n",
    "conn = 'mongodb://localhost:27017'\n",
    "client = pymongo.MongoClient(conn)\n",
    "\n",
    "\n",
    "db = client.airbnb\n",
    "calendar = db.airbnb.find()\n",
    "\n",
    "print(calendar)\n"
   ]
  },
  {
   "cell_type": "markdown",
   "metadata": {
    "slideshow": {
     "slide_type": "-"
    }
   },
   "source": [
    "### Store CSV into DataFrame"
   ]
  },
  {
   "cell_type": "code",
   "execution_count": null,
   "metadata": {},
   "outputs": [],
   "source": []
  },
  {
   "cell_type": "code",
   "execution_count": 3,
   "metadata": {
    "scrolled": true
   },
   "outputs": [
    {
     "name": "stdout",
     "output_type": "stream",
     "text": [
      "<class 'pandas.core.frame.DataFrame'>\n",
      "RangeIndex: 20030 entries, 0 to 20029\n",
      "Data columns (total 96 columns):\n",
      " #   Column                            Non-Null Count  Dtype  \n",
      "---  ------                            --------------  -----  \n",
      " 0   id                                20030 non-null  int64  \n",
      " 1   listing_url                       20030 non-null  object \n",
      " 2   scrape_id                         20030 non-null  int64  \n",
      " 3   last_scraped                      20030 non-null  object \n",
      " 4   name                              19992 non-null  object \n",
      " 5   summary                           19510 non-null  object \n",
      " 6   space                             14579 non-null  object \n",
      " 7   description                       19906 non-null  object \n",
      " 8   experiences_offered               20030 non-null  object \n",
      " 9   neighborhood_overview             13257 non-null  object \n",
      " 10  notes                             9031 non-null   object \n",
      " 11  transit                           13635 non-null  object \n",
      " 12  access                            12227 non-null  object \n",
      " 13  interaction                       11974 non-null  object \n",
      " 14  house_rules                       12571 non-null  object \n",
      " 15  thumbnail_url                     0 non-null      float64\n",
      " 16  medium_url                        0 non-null      float64\n",
      " 17  picture_url                       20030 non-null  object \n",
      " 18  xl_picture_url                    0 non-null      float64\n",
      " 19  host_id                           20030 non-null  int64  \n",
      " 20  host_url                          20030 non-null  object \n",
      " 21  host_name                         20026 non-null  object \n",
      " 22  host_since                        20026 non-null  object \n",
      " 23  host_location                     19991 non-null  object \n",
      " 24  host_about                        11803 non-null  object \n",
      " 25  host_response_time                10547 non-null  object \n",
      " 26  host_response_rate                10547 non-null  object \n",
      " 27  host_acceptance_rate              0 non-null      float64\n",
      " 28  host_is_superhost                 20026 non-null  object \n",
      " 29  host_thumbnail_url                20026 non-null  object \n",
      " 30  host_picture_url                  20026 non-null  object \n",
      " 31  host_neighbourhood                14222 non-null  object \n",
      " 32  host_listings_count               20026 non-null  float64\n",
      " 33  host_total_listings_count         20026 non-null  float64\n",
      " 34  host_verifications                20030 non-null  object \n",
      " 35  host_has_profile_pic              20026 non-null  object \n",
      " 36  host_identity_verified            20026 non-null  object \n",
      " 37  street                            20030 non-null  object \n",
      " 38  neighbourhood                     18377 non-null  object \n",
      " 39  neighbourhood_cleansed            20030 non-null  object \n",
      " 40  neighbourhood_group_cleansed      0 non-null      float64\n",
      " 41  city                              20026 non-null  object \n",
      " 42  state                             19903 non-null  object \n",
      " 43  zipcode                           19164 non-null  object \n",
      " 44  market                            19988 non-null  object \n",
      " 45  smart_location                    20030 non-null  object \n",
      " 46  country_code                      20030 non-null  object \n",
      " 47  country                           20030 non-null  object \n",
      " 48  latitude                          20030 non-null  float64\n",
      " 49  longitude                         20030 non-null  float64\n",
      " 50  is_location_exact                 20030 non-null  object \n",
      " 51  property_type                     20030 non-null  object \n",
      " 52  room_type                         20030 non-null  object \n",
      " 53  accommodates                      20030 non-null  int64  \n",
      " 54  bathrooms                         20020 non-null  float64\n",
      " 55  bedrooms                          20022 non-null  float64\n",
      " 56  beds                              20023 non-null  float64\n",
      " 57  bed_type                          20030 non-null  object \n",
      " 58  amenities                         20030 non-null  object \n",
      " 59  square_feet                       406 non-null    float64\n",
      " 60  price                             20030 non-null  object \n",
      " 61  weekly_price                      2843 non-null   object \n",
      " 62  monthly_price                     1561 non-null   object \n",
      " 63  security_deposit                  13864 non-null  object \n",
      " 64  cleaning_fee                      16401 non-null  object \n",
      " 65  guests_included                   20030 non-null  int64  \n",
      " 66  extra_people                      20030 non-null  object \n",
      " 67  minimum_nights                    20030 non-null  int64  \n",
      " 68  maximum_nights                    20030 non-null  int64  \n",
      " 69  calendar_updated                  20030 non-null  object \n",
      " 70  has_availability                  20030 non-null  object \n",
      " 71  availability_30                   20030 non-null  int64  \n",
      " 72  availability_60                   20030 non-null  int64  \n",
      " 73  availability_90                   20030 non-null  int64  \n",
      " 74  availability_365                  20030 non-null  int64  \n",
      " 75  calendar_last_scraped             20030 non-null  object \n",
      " 76  number_of_reviews                 20030 non-null  int64  \n",
      " 77  first_review                      17624 non-null  object \n",
      " 78  last_review                       17624 non-null  object \n",
      " 79  review_scores_rating              17391 non-null  float64\n",
      " 80  review_scores_accuracy            17381 non-null  float64\n",
      " 81  review_scores_cleanliness         17383 non-null  float64\n",
      " 82  review_scores_checkin             17369 non-null  float64\n",
      " 83  review_scores_communication       17378 non-null  float64\n",
      " 84  review_scores_location            17370 non-null  float64\n",
      " 85  review_scores_value               17371 non-null  float64\n",
      " 86  requires_license                  20030 non-null  object \n",
      " 87  license                           9 non-null      object \n",
      " 88  jurisdiction_names                19358 non-null  object \n",
      " 89  instant_bookable                  20030 non-null  object \n",
      " 90  is_business_travel_ready          20030 non-null  object \n",
      " 91  cancellation_policy               20030 non-null  object \n",
      " 92  require_guest_profile_picture     20030 non-null  object \n",
      " 93  require_guest_phone_verification  20030 non-null  object \n",
      " 94  calculated_host_listings_count    20030 non-null  int64  \n",
      " 95  reviews_per_month                 17624 non-null  float64\n",
      "dtypes: float64(21), int64(13), object(62)\n",
      "memory usage: 14.7+ MB\n"
     ]
    },
    {
     "name": "stderr",
     "output_type": "stream",
     "text": [
      "D:\\python\\lib\\site-packages\\IPython\\core\\interactiveshell.py:3165: DtypeWarning: Columns (87) have mixed types.Specify dtype option on import or set low_memory=False.\n",
      "  has_raised = await self.run_ast_nodes(code_ast.body, cell_name,\n"
     ]
    }
   ],
   "source": [
    "csv_file = \"./Data/listings_details.csv\"\n",
    "listing_df = pd.read_csv(csv_file,thousands=' ')\n",
    "listing_df.head()\n",
    "listing_df.info()"
   ]
  },
  {
   "cell_type": "code",
   "execution_count": 4,
   "metadata": {},
   "outputs": [
    {
     "name": "stdout",
     "output_type": "stream",
     "text": [
      "<class 'pandas.core.frame.DataFrame'>\n",
      "RangeIndex: 20030 entries, 0 to 20029\n",
      "Data columns (total 69 columns):\n",
      " #   Column                        Non-Null Count  Dtype  \n",
      "---  ------                        --------------  -----  \n",
      " 0   id                            20030 non-null  int64  \n",
      " 1   name                          19992 non-null  object \n",
      " 2   summary                       19510 non-null  object \n",
      " 3   description                   19906 non-null  object \n",
      " 4   neighborhood_overview         13257 non-null  object \n",
      " 5   notes                         9031 non-null   object \n",
      " 6   transit                       13635 non-null  object \n",
      " 7   access                        12227 non-null  object \n",
      " 8   host_id                       20030 non-null  int64  \n",
      " 9   host_name                     20026 non-null  object \n",
      " 10  host_since                    20026 non-null  object \n",
      " 11  host_location                 19991 non-null  object \n",
      " 12  host_about                    11803 non-null  object \n",
      " 13  host_response_time            10547 non-null  object \n",
      " 14  host_response_rate            10547 non-null  object \n",
      " 15  host_acceptance_rate          0 non-null      float64\n",
      " 16  host_is_superhost             20026 non-null  object \n",
      " 17  host_thumbnail_url            20026 non-null  object \n",
      " 18  host_picture_url              20026 non-null  object \n",
      " 19  host_neighbourhood            14222 non-null  object \n",
      " 20  host_listings_count           20026 non-null  float64\n",
      " 21  host_total_listings_count     20026 non-null  float64\n",
      " 22  host_verifications            20030 non-null  object \n",
      " 23  host_has_profile_pic          20026 non-null  object \n",
      " 24  host_identity_verified        20026 non-null  object \n",
      " 25  street                        20030 non-null  object \n",
      " 26  neighbourhood                 18377 non-null  object \n",
      " 27  neighbourhood_cleansed        20030 non-null  object \n",
      " 28  neighbourhood_group_cleansed  0 non-null      float64\n",
      " 29  city                          20026 non-null  object \n",
      " 30  state                         19903 non-null  object \n",
      " 31  zipcode                       19164 non-null  object \n",
      " 32  market                        19988 non-null  object \n",
      " 33  smart_location                20030 non-null  object \n",
      " 34  country_code                  20030 non-null  object \n",
      " 35  country                       20030 non-null  object \n",
      " 36  latitude                      20030 non-null  float64\n",
      " 37  longitude                     20030 non-null  float64\n",
      " 38  is_location_exact             20030 non-null  object \n",
      " 39  property_type                 20030 non-null  object \n",
      " 40  room_type                     20030 non-null  object \n",
      " 41  accommodates                  20030 non-null  int64  \n",
      " 42  bathrooms                     20020 non-null  float64\n",
      " 43  bed_type                      20030 non-null  object \n",
      " 44  amenities                     20030 non-null  object \n",
      " 45  square_feet                   406 non-null    float64\n",
      " 46  price                         20030 non-null  object \n",
      " 47  weekly_price                  2843 non-null   object \n",
      " 48  monthly_price                 1561 non-null   object \n",
      " 49  security_deposit              13864 non-null  object \n",
      " 50  cleaning_fee                  16401 non-null  object \n",
      " 51  guests_included               20030 non-null  int64  \n",
      " 52  extra_people                  20030 non-null  object \n",
      " 53  minimum_nights                20030 non-null  int64  \n",
      " 54  maximum_nights                20030 non-null  int64  \n",
      " 55  calendar_updated              20030 non-null  object \n",
      " 56  has_availability              20030 non-null  object \n",
      " 57  availability_30               20030 non-null  int64  \n",
      " 58  calendar_last_scraped         20030 non-null  object \n",
      " 59  number_of_reviews             20030 non-null  int64  \n",
      " 60  last_review                   17624 non-null  object \n",
      " 61  review_scores_rating          17391 non-null  float64\n",
      " 62  review_scores_accuracy        17381 non-null  float64\n",
      " 63  review_scores_cleanliness     17383 non-null  float64\n",
      " 64  review_scores_checkin         17369 non-null  float64\n",
      " 65  review_scores_communication   17378 non-null  float64\n",
      " 66  review_scores_location        17370 non-null  float64\n",
      " 67  review_scores_value           17371 non-null  float64\n",
      " 68  reviews_per_month             17624 non-null  float64\n",
      "dtypes: float64(16), int64(8), object(45)\n",
      "memory usage: 10.5+ MB\n"
     ]
    }
   ],
   "source": [
    "cleaned_list = listing_df.drop(columns=[ 'listing_url','interaction','beds','bedrooms','calculated_host_listings_count','is_business_travel_ready','jurisdiction_names','availability_365','availability_90','availability_60','medium_url','host_url','thumbnail_url','first_review','picture_url','xl_picture_url','cancellation_policy','license','house_rules','scrape_id','last_scraped','space','experiences_offered','requires_license','jurisdiction_names','instant_bookable','is_business_travel_ready','require_guest_profile_picture','require_guest_phone_verification','calculated_host_listings_count'])\n",
    "cleaned_list.head()\n",
    "cleaned_list.info()"
   ]
  },
  {
   "cell_type": "markdown",
   "metadata": {},
   "source": [
    "### Review scores vs. Review numbers Regression Analysis"
   ]
  },
  {
   "cell_type": "code",
   "execution_count": 5,
   "metadata": {},
   "outputs": [],
   "source": [
    "from sklearn import datasets\n",
    "from scipy.stats import linregress\n"
   ]
  },
  {
   "cell_type": "code",
   "execution_count": 6,
   "metadata": {},
   "outputs": [
    {
     "name": "stdout",
     "output_type": "stream",
     "text": [
      "The correlation between both factors is nan\n"
     ]
    },
    {
     "data": {
      "image/png": "[encoded data removed]",
      "text/plain": [
       "<Figure size 432x288 with 1 Axes>"
      ]
     },
     "metadata": {
      "needs_background": "light"
     },
     "output_type": "display_data"
    }
   ],
   "source": [
    "plt.scatter(cleaned_list.iloc[:,61],cleaned_list.iloc[:,59])\n",
    "plt.xlabel('Review Scores')\n",
    "plt.ylabel('Number of Reviews')\n",
    "correlation = linregress(cleaned_list.iloc[:,59],cleaned_list.iloc[:,61])\n",
    "print(f\"The correlation between both factors is {round(correlation[0],2)}\")\n",
    "plt.show()"
   ]
  },
  {
   "cell_type": "code",
   "execution_count": 8,
   "metadata": {},
   "outputs": [
    {
     "data": {
      "text/plain": [
       "<Figure size 432x288 with 0 Axes>"
      ]
     },
     "metadata": {},
     "output_type": "display_data"
    }
   ],
   "source": [
    "plt.savefig(\"../reviewsanalysis_Fig.01.png\", bbox_inches = \"tight\")\n",
    "plt.tight_layout()"
   ]
  },
  {
   "cell_type": "markdown",
   "metadata": {},
   "source": [
    "### Price change between seasons"
   ]
  },
  {
   "cell_type": "code",
   "execution_count": 9,
   "metadata": {},
   "outputs": [],
   "source": [
    "cleaned_list=pd.DataFrame(cleaned_list)\n",
    "\n"
   ]
  },
  {
   "cell_type": "code",
   "execution_count": 10,
   "metadata": {},
   "outputs": [
    {
     "name": "stderr",
     "output_type": "stream",
     "text": [
      "<ipython-input-10-2cb15aa7a5b4>:3: FutureWarning: The default value of regex will change from True to False in a future version. In addition, single character regular expressions will*not* be treated as literal strings when regex=True.\n",
      "  cleaned_list['price']=pd.to_numeric(cleaned_list['price'].str.replace(\"$\",\" \").str.replace(\",\",\"\"),errors =\"ignore\")\n"
     ]
    },
    {
     "data": {
      "text/html": [
       "<div>\n",
       "<style scoped>\n",
       "    .dataframe tbody tr th:only-of-type {\n",
       "        vertical-align: middle;\n",
       "    }\n",
       "\n",
       "    .dataframe tbody tr th {\n",
       "        vertical-align: top;\n",
       "    }\n",
       "\n",
       "    .dataframe thead th {\n",
       "        text-align: right;\n",
       "    }\n",
       "</style>\n",
       "<table border=\"1\" class=\"dataframe\">\n",
       "  <thead>\n",
       "    <tr style=\"text-align: right;\">\n",
       "      <th></th>\n",
       "      <th>0</th>\n",
       "      <th>1</th>\n",
       "      <th>2</th>\n",
       "      <th>3</th>\n",
       "      <th>4</th>\n",
       "      <th>5</th>\n",
       "      <th>6</th>\n",
       "      <th>7</th>\n",
       "      <th>8</th>\n",
       "      <th>9</th>\n",
       "      <th>...</th>\n",
       "      <th>20020</th>\n",
       "      <th>20021</th>\n",
       "      <th>20022</th>\n",
       "      <th>20023</th>\n",
       "      <th>20024</th>\n",
       "      <th>20025</th>\n",
       "      <th>20026</th>\n",
       "      <th>20027</th>\n",
       "      <th>20028</th>\n",
       "      <th>20029</th>\n",
       "    </tr>\n",
       "  </thead>\n",
       "  <tbody>\n",
       "    <tr>\n",
       "      <th>year</th>\n",
       "      <td>2018.0</td>\n",
       "      <td>2018.0</td>\n",
       "      <td>2018.0</td>\n",
       "      <td>2018.0</td>\n",
       "      <td>2018.0</td>\n",
       "      <td>2018.0</td>\n",
       "      <td>2018.0</td>\n",
       "      <td>2018.0</td>\n",
       "      <td>2017.0</td>\n",
       "      <td>2018.0</td>\n",
       "      <td>...</td>\n",
       "      <td>NaN</td>\n",
       "      <td>NaN</td>\n",
       "      <td>NaN</td>\n",
       "      <td>NaN</td>\n",
       "      <td>NaN</td>\n",
       "      <td>NaN</td>\n",
       "      <td>NaN</td>\n",
       "      <td>NaN</td>\n",
       "      <td>NaN</td>\n",
       "      <td>NaN</td>\n",
       "    </tr>\n",
       "    <tr>\n",
       "      <th>month</th>\n",
       "      <td>November</td>\n",
       "      <td>August</td>\n",
       "      <td>November</td>\n",
       "      <td>January</td>\n",
       "      <td>November</td>\n",
       "      <td>November</td>\n",
       "      <td>December</td>\n",
       "      <td>December</td>\n",
       "      <td>October</td>\n",
       "      <td>October</td>\n",
       "      <td>...</td>\n",
       "      <td>NaN</td>\n",
       "      <td>NaN</td>\n",
       "      <td>NaN</td>\n",
       "      <td>NaN</td>\n",
       "      <td>NaN</td>\n",
       "      <td>NaN</td>\n",
       "      <td>NaN</td>\n",
       "      <td>NaN</td>\n",
       "      <td>NaN</td>\n",
       "      <td>NaN</td>\n",
       "    </tr>\n",
       "    <tr>\n",
       "      <th>price</th>\n",
       "      <td>59.0</td>\n",
       "      <td>160.0</td>\n",
       "      <td>80.0</td>\n",
       "      <td>125.0</td>\n",
       "      <td>150.0</td>\n",
       "      <td>65.0</td>\n",
       "      <td>75.0</td>\n",
       "      <td>55.0</td>\n",
       "      <td>219.0</td>\n",
       "      <td>180.0</td>\n",
       "      <td>...</td>\n",
       "      <td>150.0</td>\n",
       "      <td>150.0</td>\n",
       "      <td>80.0</td>\n",
       "      <td>200.0</td>\n",
       "      <td>81.0</td>\n",
       "      <td>340.0</td>\n",
       "      <td>150.0</td>\n",
       "      <td>80.0</td>\n",
       "      <td>55.0</td>\n",
       "      <td>220.0</td>\n",
       "    </tr>\n",
       "  </tbody>\n",
       "</table>\n",
       "<p>3 rows × 20030 columns</p>\n",
       "</div>"
      ],
      "text/plain": [
       "          0       1         2        3         4         5         6      \\\n",
       "year     2018.0  2018.0    2018.0   2018.0    2018.0    2018.0    2018.0   \n",
       "month  November  August  November  January  November  November  December   \n",
       "price      59.0   160.0      80.0    125.0     150.0      65.0      75.0   \n",
       "\n",
       "          7        8        9      ...  20020  20021 20022  20023 20024  \\\n",
       "year     2018.0   2017.0   2018.0  ...    NaN    NaN   NaN    NaN   NaN   \n",
       "month  December  October  October  ...    NaN    NaN   NaN    NaN   NaN   \n",
       "price      55.0    219.0    180.0  ...  150.0  150.0  80.0  200.0  81.0   \n",
       "\n",
       "       20025  20026 20027 20028  20029  \n",
       "year     NaN    NaN   NaN   NaN    NaN  \n",
       "month    NaN    NaN   NaN   NaN    NaN  \n",
       "price  340.0  150.0  80.0  55.0  220.0  \n",
       "\n",
       "[3 rows x 20030 columns]"
      ]
     },
     "execution_count": 10,
     "metadata": {},
     "output_type": "execute_result"
    }
   ],
   "source": [
    "cleaned_list['last_review']= pd.to_datetime(cleaned_list['last_review'])\n",
    "cleaned_list['price']=pd.DataFrame(cleaned_list['price'])\n",
    "cleaned_list['price']=pd.to_numeric(cleaned_list['price'].str.replace(\"$\",\" \").str.replace(\",\",\"\"),errors =\"ignore\")\n",
    "#cleaned_list.groupby(cleaned_list['last_review'].cleaned_list.strftime('%B'))['price'].sum().sort_values()\n",
    "#price_df=cleaned_list.groupby([cleaned_list['last_review'].dt.year.rename('year'), cleaned_list['last_review'].dt.month_name().rename('month')]) ['price'].sum().reset_index()\n",
    "price_df=cleaned_list['last_review'].dt.year.rename('year'), cleaned_list['last_review'].dt.month_name().rename('month'),cleaned_list['price']\n",
    "price_df=pd.DataFrame(price_df)\n",
    "price_df.head()\n",
    "#month=price_df['month']\n",
    "#price = price_df.groupby(month)['price'].mean()\n",
    "#plt.bar(month, price, color='r', alpha=0.2, align=\"center\")\n"
   ]
  },
  {
   "cell_type": "code",
   "execution_count": 11,
   "metadata": {},
   "outputs": [
    {
     "data": {
      "text/html": [
       "<div>\n",
       "<style scoped>\n",
       "    .dataframe tbody tr th:only-of-type {\n",
       "        vertical-align: middle;\n",
       "    }\n",
       "\n",
       "    .dataframe tbody tr th {\n",
       "        vertical-align: top;\n",
       "    }\n",
       "\n",
       "    .dataframe thead th {\n",
       "        text-align: right;\n",
       "    }\n",
       "</style>\n",
       "<table border=\"1\" class=\"dataframe\">\n",
       "  <thead>\n",
       "    <tr style=\"text-align: right;\">\n",
       "      <th></th>\n",
       "      <th>year</th>\n",
       "      <th>month</th>\n",
       "      <th>price</th>\n",
       "    </tr>\n",
       "  </thead>\n",
       "  <tbody>\n",
       "    <tr>\n",
       "      <th>0</th>\n",
       "      <td>2018.0</td>\n",
       "      <td>November</td>\n",
       "      <td>59.0</td>\n",
       "    </tr>\n",
       "    <tr>\n",
       "      <th>1</th>\n",
       "      <td>2018.0</td>\n",
       "      <td>August</td>\n",
       "      <td>160.0</td>\n",
       "    </tr>\n",
       "    <tr>\n",
       "      <th>2</th>\n",
       "      <td>2018.0</td>\n",
       "      <td>November</td>\n",
       "      <td>80.0</td>\n",
       "    </tr>\n",
       "    <tr>\n",
       "      <th>3</th>\n",
       "      <td>2018.0</td>\n",
       "      <td>January</td>\n",
       "      <td>125.0</td>\n",
       "    </tr>\n",
       "    <tr>\n",
       "      <th>4</th>\n",
       "      <td>2018.0</td>\n",
       "      <td>November</td>\n",
       "      <td>150.0</td>\n",
       "    </tr>\n",
       "    <tr>\n",
       "      <th>...</th>\n",
       "      <td>...</td>\n",
       "      <td>...</td>\n",
       "      <td>...</td>\n",
       "    </tr>\n",
       "    <tr>\n",
       "      <th>124</th>\n",
       "      <td>2018.0</td>\n",
       "      <td>June</td>\n",
       "      <td>150.0</td>\n",
       "    </tr>\n",
       "    <tr>\n",
       "      <th>125</th>\n",
       "      <td>2017.0</td>\n",
       "      <td>July</td>\n",
       "      <td>100.0</td>\n",
       "    </tr>\n",
       "    <tr>\n",
       "      <th>126</th>\n",
       "      <td>2018.0</td>\n",
       "      <td>January</td>\n",
       "      <td>168.0</td>\n",
       "    </tr>\n",
       "    <tr>\n",
       "      <th>127</th>\n",
       "      <td>2013.0</td>\n",
       "      <td>October</td>\n",
       "      <td>8000.0</td>\n",
       "    </tr>\n",
       "    <tr>\n",
       "      <th>128</th>\n",
       "      <td>2015.0</td>\n",
       "      <td>August</td>\n",
       "      <td>99.0</td>\n",
       "    </tr>\n",
       "  </tbody>\n",
       "</table>\n",
       "<p>128 rows × 3 columns</p>\n",
       "</div>"
      ],
      "text/plain": [
       "       year     month   price\n",
       "0    2018.0  November    59.0\n",
       "1    2018.0    August   160.0\n",
       "2    2018.0  November    80.0\n",
       "3    2018.0   January   125.0\n",
       "4    2018.0  November   150.0\n",
       "..      ...       ...     ...\n",
       "124  2018.0      June   150.0\n",
       "125  2017.0      July   100.0\n",
       "126  2018.0   January   168.0\n",
       "127  2013.0   October  8000.0\n",
       "128  2015.0    August    99.0\n",
       "\n",
       "[128 rows x 3 columns]"
      ]
     },
     "execution_count": 11,
     "metadata": {},
     "output_type": "execute_result"
    }
   ],
   "source": [
    "listing=price_df.transpose().dropna()\n",
    "listing=pd.DataFrame(listing)\n",
    "\n",
    "listing.head(128)\n"
   ]
  },
  {
   "cell_type": "code",
   "execution_count": 12,
   "metadata": {},
   "outputs": [
    {
     "data": {
      "text/plain": [
       "([0, 1, 2, 3, 4, 5, 6, 7, 8, 9, 10, 11],\n",
       " [Text(0, 0, ''),\n",
       "  Text(0, 0, ''),\n",
       "  Text(0, 0, ''),\n",
       "  Text(0, 0, ''),\n",
       "  Text(0, 0, ''),\n",
       "  Text(0, 0, ''),\n",
       "  Text(0, 0, ''),\n",
       "  Text(0, 0, ''),\n",
       "  Text(0, 0, ''),\n",
       "  Text(0, 0, ''),\n",
       "  Text(0, 0, ''),\n",
       "  Text(0, 0, '')])"
      ]
     },
     "execution_count": 12,
     "metadata": {},
     "output_type": "execute_result"
    },
    {
     "data": {
      "image/png": "[encoded data removed]",
      "text/plain": [
       "<Figure size 432x288 with 1 Axes>"
      ]
     },
     "metadata": {
      "needs_background": "light"
     },
     "output_type": "display_data"
    }
   ],
   "source": [
    "grouped2=pd.to_numeric(listing['price']).groupby(listing['month']).mean()\n",
    "grouped2=pd.DataFrame(grouped2)\n",
    "grouped2.head(12)\n",
    "\n",
    "price=[146.97,157.01,127.52,119.63,137.41,151.81,149.42,131.60,147.47,141.44,165.43,151.17]\n",
    "month=[\"April\",\"August\",\"December\",\"February\",\"January\",\"July\",\"June\",\"March\",\"May\",\"November\",\"October\",\"September\"]\n",
    "plt.plot(month, price)\n",
    "plt.title(\"Monthly Price Change\")\n",
    "plt.xlabel(\"Month\")\n",
    "plt.ylabel(\"Average Price per day\")\n",
    "#plt.bar(month, price, color='r', alpha=0.5, align=\"center\")\n",
    "plt.xticks(rotation=50)"
   ]
  },
  {
   "cell_type": "code",
   "execution_count": 15,
   "metadata": {},
   "outputs": [
    {
     "data": {
      "text/plain": [
       "<Figure size 432x288 with 0 Axes>"
      ]
     },
     "metadata": {},
     "output_type": "display_data"
    }
   ],
   "source": [
    "plt.savefig(\"../pricechange_Fig.01.png\", bbox_inches = \"tight\")\n",
    "plt.tight_layout()"
   ]
  },
  {
   "cell_type": "code",
   "execution_count": 16,
   "metadata": {},
   "outputs": [
    {
     "data": {
      "text/html": [
       "<div>\n",
       "<style scoped>\n",
       "    .dataframe tbody tr th:only-of-type {\n",
       "        vertical-align: middle;\n",
       "    }\n",
       "\n",
       "    .dataframe tbody tr th {\n",
       "        vertical-align: top;\n",
       "    }\n",
       "\n",
       "    .dataframe thead th {\n",
       "        text-align: right;\n",
       "    }\n",
       "</style>\n",
       "<table border=\"1\" class=\"dataframe\">\n",
       "  <thead>\n",
       "    <tr style=\"text-align: right;\">\n",
       "      <th></th>\n",
       "      <th>listing_id</th>\n",
       "      <th>date</th>\n",
       "      <th>available</th>\n",
       "      <th>price</th>\n",
       "    </tr>\n",
       "  </thead>\n",
       "  <tbody>\n",
       "    <tr>\n",
       "      <th>0</th>\n",
       "      <td>2818</td>\n",
       "      <td>2019-12-05</td>\n",
       "      <td>f</td>\n",
       "      <td>NaN</td>\n",
       "    </tr>\n",
       "    <tr>\n",
       "      <th>1</th>\n",
       "      <td>73208</td>\n",
       "      <td>2019-08-30</td>\n",
       "      <td>f</td>\n",
       "      <td>NaN</td>\n",
       "    </tr>\n",
       "    <tr>\n",
       "      <th>2</th>\n",
       "      <td>73208</td>\n",
       "      <td>2019-08-29</td>\n",
       "      <td>f</td>\n",
       "      <td>NaN</td>\n",
       "    </tr>\n",
       "    <tr>\n",
       "      <th>3</th>\n",
       "      <td>73208</td>\n",
       "      <td>2019-08-28</td>\n",
       "      <td>f</td>\n",
       "      <td>NaN</td>\n",
       "    </tr>\n",
       "    <tr>\n",
       "      <th>4</th>\n",
       "      <td>73208</td>\n",
       "      <td>2019-08-27</td>\n",
       "      <td>f</td>\n",
       "      <td>NaN</td>\n",
       "    </tr>\n",
       "  </tbody>\n",
       "</table>\n",
       "</div>"
      ],
      "text/plain": [
       "   listing_id        date available  price\n",
       "0        2818  2019-12-05         f    NaN\n",
       "1       73208  2019-08-30         f    NaN\n",
       "2       73208  2019-08-29         f    NaN\n",
       "3       73208  2019-08-28         f    NaN\n",
       "4       73208  2019-08-27         f    NaN"
      ]
     },
     "execution_count": 16,
     "metadata": {},
     "output_type": "execute_result"
    }
   ],
   "source": [
    "csv_file = \"./Data/calendar.csv\"\n",
    "calendar_df = pd.read_csv(csv_file, nrows= 10)\n",
    "calendar_df.head()\n",
    "#calendar_df.loc[calendar_df[\"listing_id\"] ==2818]\n"
   ]
  },
  {
   "cell_type": "code",
   "execution_count": 17,
   "metadata": {},
   "outputs": [
    {
     "data": {
      "text/html": [
       "<div>\n",
       "<style scoped>\n",
       "    .dataframe tbody tr th:only-of-type {\n",
       "        vertical-align: middle;\n",
       "    }\n",
       "\n",
       "    .dataframe tbody tr th {\n",
       "        vertical-align: top;\n",
       "    }\n",
       "\n",
       "    .dataframe thead th {\n",
       "        text-align: right;\n",
       "    }\n",
       "</style>\n",
       "<table border=\"1\" class=\"dataframe\">\n",
       "  <thead>\n",
       "    <tr style=\"text-align: right;\">\n",
       "      <th></th>\n",
       "      <th>listing_id</th>\n",
       "      <th>id</th>\n",
       "      <th>date</th>\n",
       "      <th>reviewer_id</th>\n",
       "      <th>reviewer_name</th>\n",
       "      <th>comments</th>\n",
       "    </tr>\n",
       "  </thead>\n",
       "  <tbody>\n",
       "    <tr>\n",
       "      <th>0</th>\n",
       "      <td>2818</td>\n",
       "      <td>1191</td>\n",
       "      <td>2009-03-30</td>\n",
       "      <td>10952</td>\n",
       "      <td>Lam</td>\n",
       "      <td>Daniel is really cool. The place was nice and ...</td>\n",
       "    </tr>\n",
       "    <tr>\n",
       "      <th>1</th>\n",
       "      <td>2818</td>\n",
       "      <td>1771</td>\n",
       "      <td>2009-04-24</td>\n",
       "      <td>12798</td>\n",
       "      <td>Alice</td>\n",
       "      <td>Daniel is the most amazing host! His place is ...</td>\n",
       "    </tr>\n",
       "    <tr>\n",
       "      <th>2</th>\n",
       "      <td>2818</td>\n",
       "      <td>1989</td>\n",
       "      <td>2009-05-03</td>\n",
       "      <td>11869</td>\n",
       "      <td>Natalja</td>\n",
       "      <td>We had such a great time in Amsterdam. Daniel ...</td>\n",
       "    </tr>\n",
       "    <tr>\n",
       "      <th>3</th>\n",
       "      <td>2818</td>\n",
       "      <td>2797</td>\n",
       "      <td>2009-05-18</td>\n",
       "      <td>14064</td>\n",
       "      <td>Enrique</td>\n",
       "      <td>Very professional operation. Room is very clea...</td>\n",
       "    </tr>\n",
       "    <tr>\n",
       "      <th>4</th>\n",
       "      <td>2818</td>\n",
       "      <td>3151</td>\n",
       "      <td>2009-05-25</td>\n",
       "      <td>17977</td>\n",
       "      <td>Sherwin</td>\n",
       "      <td>Daniel is highly recommended.  He provided all...</td>\n",
       "    </tr>\n",
       "  </tbody>\n",
       "</table>\n",
       "</div>"
      ],
      "text/plain": [
       "   listing_id    id        date  reviewer_id reviewer_name  \\\n",
       "0        2818  1191  2009-03-30        10952           Lam   \n",
       "1        2818  1771  2009-04-24        12798         Alice   \n",
       "2        2818  1989  2009-05-03        11869       Natalja   \n",
       "3        2818  2797  2009-05-18        14064       Enrique   \n",
       "4        2818  3151  2009-05-25        17977       Sherwin   \n",
       "\n",
       "                                            comments  \n",
       "0  Daniel is really cool. The place was nice and ...  \n",
       "1  Daniel is the most amazing host! His place is ...  \n",
       "2  We had such a great time in Amsterdam. Daniel ...  \n",
       "3  Very professional operation. Room is very clea...  \n",
       "4  Daniel is highly recommended.  He provided all...  "
      ]
     },
     "execution_count": 17,
     "metadata": {},
     "output_type": "execute_result"
    }
   ],
   "source": [
    "csv_file = \"./Data/reviews_details.csv\"\n",
    "reviews_df = pd.read_csv(csv_file)\n",
    "reviews_df.head()"
   ]
  },
  {
   "cell_type": "code",
   "execution_count": 18,
   "metadata": {},
   "outputs": [
    {
     "data": {
      "text/html": [
       "<div>\n",
       "<style scoped>\n",
       "    .dataframe tbody tr th:only-of-type {\n",
       "        vertical-align: middle;\n",
       "    }\n",
       "\n",
       "    .dataframe tbody tr th {\n",
       "        vertical-align: top;\n",
       "    }\n",
       "\n",
       "    .dataframe thead th {\n",
       "        text-align: right;\n",
       "    }\n",
       "</style>\n",
       "<table border=\"1\" class=\"dataframe\">\n",
       "  <thead>\n",
       "    <tr style=\"text-align: right;\">\n",
       "      <th></th>\n",
       "      <th>listing_id</th>\n",
       "      <th>id</th>\n",
       "      <th>date</th>\n",
       "      <th>reviewer_id</th>\n",
       "      <th>reviewer_name</th>\n",
       "    </tr>\n",
       "  </thead>\n",
       "  <tbody>\n",
       "    <tr>\n",
       "      <th>0</th>\n",
       "      <td>2818</td>\n",
       "      <td>1191</td>\n",
       "      <td>2009-03-30</td>\n",
       "      <td>10952</td>\n",
       "      <td>Lam</td>\n",
       "    </tr>\n",
       "    <tr>\n",
       "      <th>1</th>\n",
       "      <td>2818</td>\n",
       "      <td>1771</td>\n",
       "      <td>2009-04-24</td>\n",
       "      <td>12798</td>\n",
       "      <td>Alice</td>\n",
       "    </tr>\n",
       "    <tr>\n",
       "      <th>2</th>\n",
       "      <td>2818</td>\n",
       "      <td>1989</td>\n",
       "      <td>2009-05-03</td>\n",
       "      <td>11869</td>\n",
       "      <td>Natalja</td>\n",
       "    </tr>\n",
       "    <tr>\n",
       "      <th>3</th>\n",
       "      <td>2818</td>\n",
       "      <td>2797</td>\n",
       "      <td>2009-05-18</td>\n",
       "      <td>14064</td>\n",
       "      <td>Enrique</td>\n",
       "    </tr>\n",
       "    <tr>\n",
       "      <th>4</th>\n",
       "      <td>2818</td>\n",
       "      <td>3151</td>\n",
       "      <td>2009-05-25</td>\n",
       "      <td>17977</td>\n",
       "      <td>Sherwin</td>\n",
       "    </tr>\n",
       "  </tbody>\n",
       "</table>\n",
       "</div>"
      ],
      "text/plain": [
       "   listing_id    id        date  reviewer_id reviewer_name\n",
       "0        2818  1191  2009-03-30        10952           Lam\n",
       "1        2818  1771  2009-04-24        12798         Alice\n",
       "2        2818  1989  2009-05-03        11869       Natalja\n",
       "3        2818  2797  2009-05-18        14064       Enrique\n",
       "4        2818  3151  2009-05-25        17977       Sherwin"
      ]
     },
     "execution_count": 18,
     "metadata": {},
     "output_type": "execute_result"
    }
   ],
   "source": [
    "review_cleaned = reviews_df.drop(columns=['comments'])\n",
    "review_cleaned.head()"
   ]
  },
  {
   "cell_type": "markdown",
   "metadata": {},
   "source": []
  },
  {
   "cell_type": "code",
   "execution_count": null,
   "metadata": {},
   "outputs": [],
   "source": []
  },
  {
   "cell_type": "code",
   "execution_count": null,
   "metadata": {},
   "outputs": [],
   "source": []
  },
  {
   "cell_type": "markdown",
   "metadata": {},
   "source": []
  },
  {
   "cell_type": "code",
   "execution_count": null,
   "metadata": {},
   "outputs": [],
   "source": []
  },
  {
   "cell_type": "code",
   "execution_count": null,
   "metadata": {
    "scrolled": true
   },
   "outputs": [],
   "source": []
  },
  {
   "cell_type": "code",
   "execution_count": 12,
   "metadata": {},
   "outputs": [],
   "source": []
  },
  {
   "cell_type": "code",
   "execution_count": null,
   "metadata": {},
   "outputs": [],
   "source": []
  },
  {
   "cell_type": "code",
   "execution_count": null,
   "metadata": {},
   "outputs": [],
   "source": []
  },
  {
   "cell_type": "code",
   "execution_count": null,
   "metadata": {},
   "outputs": [],
   "source": []
  }
 ],
 "metadata": {
  "kernelspec": {
   "display_name": "Python 3",
   "language": "python",
   "name": "python3"
  },
  "language_info": {
   "codemirror_mode": {
    "name": "ipython",
    "version": 3
   },
   "file_extension": ".py",
   "mimetype": "text/x-python",
   "name": "python",
   "nbconvert_exporter": "python",
   "pygments_lexer": "ipython3",
   "version": "3.8.8"
  },
  "nteract": {
   "version": "0.12.3"
  }
 },
 "nbformat": 4,
 "nbformat_minor": 2
}
